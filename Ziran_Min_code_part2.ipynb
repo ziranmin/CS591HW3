{
 "cells": [
  {
   "cell_type": "markdown",
   "metadata": {},
   "source": [
    "# Prepare data"
   ]
  },
  {
   "cell_type": "code",
   "execution_count": 202,
   "metadata": {},
   "outputs": [
    {
     "name": "stdout",
     "output_type": "stream",
     "text": [
      "file_len = 904663\n"
     ]
    }
   ],
   "source": [
    "import unidecode\n",
    "import codecs\n",
    "import string\n",
    "import random\n",
    "import re\n",
    "import numpy as np\n",
    "\n",
    "all_characters = string.printable\n",
    "n_characters = len(all_characters)\n",
    "\n",
    "file = unidecode.unidecode(codecs.open('speeches.txt', \"r\",encoding='utf-8', errors='ignore').read())\n",
    "file_len = len(file)\n",
    "print('file_len =', file_len)"
   ]
  },
  {
   "cell_type": "code",
   "execution_count": 203,
   "metadata": {},
   "outputs": [
    {
     "name": "stdout",
     "output_type": "stream",
     "text": [
      "'ll say, \"How can our politicians be so stupid?\" They're not stupid. They're being hit by the lobbyists and the special interests and they make a fortune. Okay? They get tremendous campaign contributio\n"
     ]
    }
   ],
   "source": [
    "chunk_len = 200\n",
    "\n",
    "def random_chunk():\n",
    "    start_index = random.randint(0, file_len - chunk_len)\n",
    "    end_index = start_index + chunk_len + 1\n",
    "    return file[start_index:end_index]\n",
    "\n",
    "print(random_chunk())"
   ]
  },
  {
   "cell_type": "markdown",
   "metadata": {},
   "source": [
    "# Build the Model"
   ]
  },
  {
   "cell_type": "code",
   "execution_count": 204,
   "metadata": {},
   "outputs": [],
   "source": [
    "import torch\n",
    "import torch.nn as nn\n",
    "from torch.autograd import Variable\n",
    "\n",
    "class RNN(nn.Module):\n",
    "    def __init__(self, input_size, hidden_size, output_size, n_layers=1):\n",
    "        super(RNN, self).__init__()\n",
    "        self.input_size = input_size\n",
    "        self.hidden_size = hidden_size\n",
    "        self.output_size = output_size\n",
    "        self.n_layers = n_layers\n",
    "        \n",
    "        self.encoder = nn.Embedding(input_size, hidden_size)\n",
    "        self.gru = nn.GRU(hidden_size, hidden_size, n_layers)\n",
    "        self.decoder = nn.Linear(hidden_size, output_size)\n",
    "    \n",
    "    def forward(self, input, hidden):\n",
    "        input = self.encoder(input.view(1, -1))\n",
    "        output, hidden = self.gru(input.view(1, 1, -1), hidden)\n",
    "        output = self.decoder(output.view(1, -1))\n",
    "        return output, hidden\n",
    "\n",
    "    def init_hidden(self):\n",
    "        return Variable(torch.zeros(self.n_layers, 1, self.hidden_size))"
   ]
  },
  {
   "cell_type": "markdown",
   "metadata": {},
   "source": [
    "# Inputs and Targets"
   ]
  },
  {
   "cell_type": "code",
   "execution_count": 205,
   "metadata": {},
   "outputs": [
    {
     "name": "stdout",
     "output_type": "stream",
     "text": [
      "tensor([10, 11, 12, 39, 40, 41])\n"
     ]
    }
   ],
   "source": [
    "# Turn string into list of longs\n",
    "def char_tensor(string):\n",
    "    tensor = torch.zeros(len(string)).long()\n",
    "    for c in range(len(string)):\n",
    "        tensor[c] = all_characters.index(string[c])\n",
    "    return Variable(tensor)\n",
    "\n",
    "print(char_tensor('abcDEF'))"
   ]
  },
  {
   "cell_type": "code",
   "execution_count": 206,
   "metadata": {},
   "outputs": [],
   "source": [
    "def random_training_set():    \n",
    "    chunk = random_chunk()\n",
    "    inp = char_tensor(chunk[:-1])\n",
    "    target = char_tensor(chunk[1:])\n",
    "    return inp, target"
   ]
  },
  {
   "cell_type": "markdown",
   "metadata": {},
   "source": [
    "# Evaluating"
   ]
  },
  {
   "cell_type": "code",
   "execution_count": 207,
   "metadata": {},
   "outputs": [],
   "source": [
    "def evaluate(prime_str='A', predict_len=100, temperature=0.8):\n",
    "    hidden = decoder.init_hidden()\n",
    "    prime_input = char_tensor(prime_str)\n",
    "    predicted = prime_str\n",
    "\n",
    "    # Use priming string to \"build up\" hidden state\n",
    "    for p in range(len(prime_str) - 1):\n",
    "        _, hidden = decoder(prime_input[p], hidden)\n",
    "    inp = prime_input[-1]\n",
    "    \n",
    "    for p in range(predict_len):\n",
    "        output, hidden = decoder(inp, hidden)\n",
    "        \n",
    "        # Sample from the network as a multinomial distribution\n",
    "        output_dist = output.data.view(-1).div(temperature).exp()\n",
    "        top_i = torch.multinomial(output_dist, 1)[0]\n",
    "        \n",
    "        # Add predicted character to string and use as next input\n",
    "        predicted_char = all_characters[top_i]\n",
    "        predicted += predicted_char\n",
    "        inp = char_tensor(predicted_char)\n",
    "\n",
    "    return predicted"
   ]
  },
  {
   "cell_type": "markdown",
   "metadata": {},
   "source": [
    "# Training"
   ]
  },
  {
   "cell_type": "code",
   "execution_count": 208,
   "metadata": {},
   "outputs": [],
   "source": [
    "import time, math\n",
    "\n",
    "def time_since(since):\n",
    "    s = time.time() - since\n",
    "    m = math.floor(s / 60)\n",
    "    s -= m * 60\n",
    "    return '%dm %ds' % (m, s)"
   ]
  },
  {
   "cell_type": "code",
   "execution_count": 209,
   "metadata": {},
   "outputs": [],
   "source": [
    "def train(inp, target):\n",
    "    hidden = decoder.init_hidden()\n",
    "    decoder.zero_grad()\n",
    "    loss = 0\n",
    "\n",
    "    for c in range(chunk_len):\n",
    "        output, hidden = decoder(inp[c], hidden)\n",
    "        #loss += criterion(output, target[c])\n",
    "        loss += criterion(output, target[c].unsqueeze(0))\n",
    "\n",
    "    loss.backward()\n",
    "    decoder_optimizer.step()\n",
    "\n",
    "    #return loss.data[0] / chunk_len\n",
    "    return loss.data.item() / chunk_len"
   ]
  },
  {
   "cell_type": "code",
   "execution_count": 212,
   "metadata": {},
   "outputs": [
    {
     "name": "stdout",
     "output_type": "stream",
     "text": [
      "[0m 10s (100 5%) 2.2933]\n",
      "Whatt has veand cne our neas mone pase we sem.\n",
      "\n",
      "\n",
      "\n",
      "\n",
      "\"Yc- go to. Nulingrer, poneret heu wneve seand \n",
      "\n",
      "[0m 21s (200 10%) 2.1843]\n",
      "Whe're go worll grettes arated gesling we's and a be ab sist peorss agill you you'y saillasis. The goi \n",
      "\n",
      "[0m 34s (300 15%) 1.7062]\n",
      "What that be whem our I be crouslies aas that is comnourton, 3on. we in whe or take intrend all bebode \n",
      "\n",
      "[0m 46s (400 20%) 2.0487]\n",
      "Whay the he jop in the bumive nual going the so world cant and to have spertion, nether is going to we \n",
      "\n",
      "[0m 59s (500 25%) 2.0984]\n",
      "What, whoo ou how some and wish and yobod yus. I to do bout of it our well one ofP there yever are Ima \n",
      "\n",
      "[1m 12s (600 30%) 1.7681]\n",
      "Where got. You right we our moung our jobbod, and have are them. And we pAle on for till pux that we'r \n",
      "\n",
      "[1m 24s (700 35%) 2.2434]\n",
      "Whing a verion actorer and have - be whe the wered and every the Smany that he's a for for many horlli \n",
      "\n",
      "[1m 37s (800 40%) 1.8469]\n",
      "Wh every $15 bit. I lot bumans aftered. It's the our rade money treapse, we we're don't but all lotest \n",
      "\n",
      "[1m 49s (900 45%) 1.4644]\n",
      "Whe don't we sun the people won sageat the talked big the botes all us because be much is have to bein \n",
      "\n",
      "[2m 2s (1000 50%) 1.6198]\n",
      "Who saying the -- I wanted is because and I well out intle think it'pe smabe a great sten - they going \n",
      "\n",
      "[2m 14s (1100 55%) 1.4414]\n",
      "Whe was every sty he was a from we compaist wad not mothing to be going the biggeter it it sigrizent o \n",
      "\n",
      "[2m 26s (1200 60%) 1.9140]\n",
      "What I lot vericand from the did cough. The hesed Prebement bill this have many mowe out, yum, with pr \n",
      "\n",
      "[2m 38s (1300 65%) 1.6447]\n",
      "Whe me be to the brestent on out be in year to gotion.\n",
      "So to horrac't say tose. He because to - \"You  \n",
      "\n",
      "[2m 51s (1400 70%) 2.1748]\n",
      "WhS. He want are and heen think ingleat to state the compantors. You know you that think we at to of t \n",
      "\n",
      "[3m 3s (1500 75%) 1.5025]\n",
      "Wh Omaras as fund in sedpolly wich the on\"\"\"They whatuterion on then we we've sming of Ito the but you \n",
      "\n",
      "[3m 16s (1600 80%) 1.4654]\n",
      "Why Carale agon these with the greather they's don't very saidn orderon the all of Can.\n",
      "\n",
      "\n",
      "\n",
      "\n",
      "So wi \n",
      "\n",
      "[3m 28s (1700 85%) 1.6230]\n",
      "Why bad a liffere but. Now, I have they're to haistally was sad the criess there aut of the terrreric  \n",
      "\n",
      "[3m 40s (1800 90%) 1.5167]\n",
      "Whital the don't know thing of at in expection in and the side tell you but really purtic win wich bel \n",
      "\n",
      "[3m 52s (1900 95%) 1.6125]\n",
      "What he's a persorst - think ain these of the country one oure people. You to was will get it. I have  \n",
      "\n",
      "[4m 4s (2000 100%) 1.6669]\n",
      "Wheres of been and that. We're going the stateangen, from spentere they then vettern people been this  \n",
      "\n"
     ]
    }
   ],
   "source": [
    "n_epochs = 2000\n",
    "print_every = 100\n",
    "plot_every = 10\n",
    "hidden_size = 100\n",
    "n_layers = 1\n",
    "lr = 0.005\n",
    "\n",
    "decoder = RNN(n_characters, hidden_size, n_characters, n_layers)\n",
    "decoder_optimizer = torch.optim.Adam(decoder.parameters(), lr=lr)\n",
    "criterion = nn.CrossEntropyLoss()\n",
    "\n",
    "start = time.time()\n",
    "all_losses = []\n",
    "loss_avg = 0\n",
    "\n",
    "for epoch in range(1, n_epochs + 1):\n",
    "    loss = train(*random_training_set())       \n",
    "    loss_avg += loss\n",
    "\n",
    "    if epoch % print_every == 0:\n",
    "        print('[%s (%d %d%%) %.4f]' % (time_since(start), epoch, epoch / n_epochs * 100, loss))\n",
    "        print(evaluate('Wh', 100), '\\n')\n",
    "\n",
    "    if epoch % plot_every == 0:\n",
    "        all_losses.append(loss_avg / plot_every)\n",
    "        loss_avg = 0"
   ]
  },
  {
   "cell_type": "markdown",
   "metadata": {},
   "source": [
    "# Plotting the Training Losses"
   ]
  },
  {
   "cell_type": "code",
   "execution_count": 217,
   "metadata": {},
   "outputs": [
    {
     "data": {
      "text/plain": [
       "[<matplotlib.lines.Line2D at 0x11ebaa588>]"
      ]
     },
     "execution_count": 217,
     "metadata": {},
     "output_type": "execute_result"
    },
    {
     "data": {
      "image/png": "[encoded data removed]",
      "text/plain": [
       "<Figure size 432x288 with 1 Axes>"
      ]
     },
     "metadata": {},
     "output_type": "display_data"
    }
   ],
   "source": [
    "import matplotlib.pyplot as plt\n",
    "import matplotlib.ticker as ticker\n",
    "%matplotlib inline\n",
    "\n",
    "plt.figure()\n",
    "plt.plot(all_losses)"
   ]
  },
  {
   "cell_type": "markdown",
   "metadata": {},
   "source": [
    "# Evaluating at different \"temperatures\""
   ]
  },
  {
   "cell_type": "code",
   "execution_count": 214,
   "metadata": {},
   "outputs": [
    {
     "name": "stdout",
     "output_type": "stream",
     "text": [
      "Thousands ant.\r\n",
      "And sit's she one 35 so gAin of kempuforina,ins somebrboosandorib when up..  Pads, brab in the vast incor..Pcwadpodirmef, let toesing..X;Himo,y Jencamizis anyYory, agotial.\r\n",
      "I've the Anc\n"
     ]
    }
   ],
   "source": [
    "print(evaluate('Th', 200, temperature=1.4))"
   ]
  },
  {
   "cell_type": "code",
   "execution_count": 215,
   "metadata": {},
   "outputs": [
    {
     "name": "stdout",
     "output_type": "stream",
     "text": [
      "Thank it's can to get Pastion.\r\n",
      "Think it make a prees incredisanted been Perice wreat? eally say soled a creaint things anything, if it.\r\n",
      "I don't im and actua.\r\n",
      "So here a lot jobs from going to get nest\n"
     ]
    }
   ],
   "source": [
    "print(evaluate('Th', 200, temperature=0.8))"
   ]
  },
  {
   "cell_type": "code",
   "execution_count": 216,
   "metadata": {},
   "outputs": [
    {
     "name": "stdout",
     "output_type": "stream",
     "text": [
      "Think your because the world we have and the world we have and the world we have the world we have the was and the world we're going to be and we have a lot of the world be the world we have the said \"W\n"
     ]
    }
   ],
   "source": [
    "print(evaluate('Th', 200, temperature=0.2))"
   ]
  },
  {
   "cell_type": "markdown",
   "metadata": {},
   "source": [
    "# Calculate Perplexity"
   ]
  },
  {
   "cell_type": "code",
   "execution_count": null,
   "metadata": {},
   "outputs": [],
   "source": [
    "char_l = []\n",
    "for i in all_characters:\n",
    "    char_l += [i]"
   ]
  },
  {
   "cell_type": "code",
   "execution_count": 341,
   "metadata": {},
   "outputs": [],
   "source": [
    "def next_char_prob(c, prime_str):\n",
    "    temperature=0.2\n",
    "    predict_len = 1\n",
    "    \n",
    "    hidden = decoder.init_hidden()\n",
    "    prime_input = char_tensor(prime_str)\n",
    "    predicted = prime_str\n",
    "    \n",
    "    for p in range(len(prime_str) - 1):\n",
    "        _, hidden = decoder(prime_input[p], hidden)\n",
    "    inp = prime_input[-1]\n",
    "    \n",
    "    output, hidden = decoder(inp, hidden)\n",
    "    output_dist = output.data.view(-1).div(temperature).exp()\n",
    "    #output_dist = output.data.view(-1).exp()\n",
    "    \n",
    "    output_dist_l = output_dist.numpy()\n",
    "    sum_score = sum(output_dist_l)\n",
    "    \n",
    "    c_score = output_dist_l[char_l.index(c)]\n",
    "    \n",
    "    return c_score/sum_score"
   ]
  },
  {
   "cell_type": "code",
   "execution_count": 342,
   "metadata": {},
   "outputs": [],
   "source": [
    "def perplexity(sentence):\n",
    "    N = len(sentence)\n",
    "    \n",
    "    score = 0 \n",
    "    p_c1 = file.count(sentence[0])/len(file)\n",
    "    score += np.log(p_c1)\n",
    "    \n",
    "    for i in range(1, N):\n",
    "        curr_c = sentence[i]\n",
    "        curr_prime = sentence[:i]\n",
    "        curr_score = next_char_prob(curr_c, curr_prime)\n",
    "        score += np.log(curr_score)\n",
    "        \n",
    "    return np.exp((-1)*(1/N)*(score))"
   ]
  },
  {
   "cell_type": "code",
   "execution_count": 357,
   "metadata": {},
   "outputs": [],
   "source": [
    "ex1 = evaluate('Wh', 100, temperature=1.4)"
   ]
  },
  {
   "cell_type": "code",
   "execution_count": 358,
   "metadata": {},
   "outputs": [
    {
     "name": "stdout",
     "output_type": "stream",
     "text": [
      "Wh', FHi8. It'se going Penksed P- the PHering care so cheae, in bild millions, if he's, I not bad. Vze\n"
     ]
    }
   ],
   "source": [
    "print(ex1)"
   ]
  },
  {
   "cell_type": "code",
   "execution_count": 345,
   "metadata": {},
   "outputs": [],
   "source": [
    "ex2 = evaluate('Wh', 100, temperature=0.2)"
   ]
  },
  {
   "cell_type": "code",
   "execution_count": 346,
   "metadata": {},
   "outputs": [
    {
     "name": "stdout",
     "output_type": "stream",
     "text": [
      "Where we have the world what we have the said the world we have the world be the startion and the worl\n"
     ]
    }
   ],
   "source": [
    "print(ex2)"
   ]
  },
  {
   "cell_type": "code",
   "execution_count": 359,
   "metadata": {},
   "outputs": [
    {
     "data": {
      "text/plain": [
       "593.1512534535195"
      ]
     },
     "execution_count": 359,
     "metadata": {},
     "output_type": "execute_result"
    }
   ],
   "source": [
    "perplexity(ex1)"
   ]
  },
  {
   "cell_type": "code",
   "execution_count": 348,
   "metadata": {},
   "outputs": [
    {
     "data": {
      "text/plain": [
       "1.391566849883651"
      ]
     },
     "execution_count": 348,
     "metadata": {},
     "output_type": "execute_result"
    }
   ],
   "source": [
    "perplexity(ex2)"
   ]
  },
  {
   "cell_type": "code",
   "execution_count": null,
   "metadata": {},
   "outputs": [],
   "source": []
  }
 ],
 "metadata": {
  "kernelspec": {
   "display_name": "Python 3",
   "language": "python",
   "name": "python3"
  },
  "language_info": {
   "codemirror_mode": {
    "name": "ipython",
    "version": 3
   },
   "file_extension": ".py",
   "mimetype": "text/x-python",
   "name": "python",
   "nbconvert_exporter": "python",
   "pygments_lexer": "ipython3",
   "version": "3.6.5"
  }
 },
 "nbformat": 4,
 "nbformat_minor": 2
}
